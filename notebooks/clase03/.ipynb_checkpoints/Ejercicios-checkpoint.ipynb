{
 "cells": [
  {
   "cell_type": "markdown",
   "metadata": {},
   "source": [
    "1. Cree una función que lea una números hasta que se digite el 0"
   ]
  },
  {
   "cell_type": "code",
   "execution_count": 7,
   "metadata": {},
   "outputs": [],
   "source": [
    "def leer_lista():\n",
    "    \"\"\"Esta función lee una lista de números mientras el número no sea 0\"\"\"\n",
    "    numero = int(input(\"Ingrese un número: \"))\n",
    "    lista = list()\n",
    "    while numero!= 0:\n",
    "        lista.append(numero)\n",
    "        numero = int(input(\"Ingrese un número: \"))\n",
    "    return lista"
   ]
  },
  {
   "cell_type": "code",
   "execution_count": 8,
   "metadata": {},
   "outputs": [
    {
     "name": "stdout",
     "output_type": "stream",
     "text": [
      "Ingrese un número: 1\n",
      "Ingrese un número: 3\n",
      "Ingrese un número: 4\n",
      "Ingrese un número: 2\n",
      "Ingrese un número: 1\n",
      "Ingrese un número: 0\n"
     ]
    }
   ],
   "source": [
    "lista = leer_lista()"
   ]
  },
  {
   "cell_type": "code",
   "execution_count": 9,
   "metadata": {},
   "outputs": [
    {
     "data": {
      "text/plain": [
       "[1, 3, 4, 2, 1]"
      ]
     },
     "execution_count": 9,
     "metadata": {},
     "output_type": "execute_result"
    }
   ],
   "source": [
    "lista"
   ]
  },
  {
   "cell_type": "code",
   "execution_count": 10,
   "metadata": {},
   "outputs": [],
   "source": [
    "def eliminar_repetidos(lista):\n",
    "    \"\"\"Esta función elimina los repetidos de una lista\"\"\"\n",
    "    return list(set(lista))"
   ]
  },
  {
   "cell_type": "code",
   "execution_count": 11,
   "metadata": {},
   "outputs": [
    {
     "data": {
      "text/plain": [
       "[1, 2, 3, 4]"
      ]
     },
     "execution_count": 11,
     "metadata": {},
     "output_type": "execute_result"
    }
   ],
   "source": [
    "eliminar_repetidos(lista)"
   ]
  },
  {
   "cell_type": "code",
   "execution_count": 12,
   "metadata": {},
   "outputs": [],
   "source": [
    "def eliminar_repetidos_complejo(lista):\n",
    "    \"\"\"\n",
    "    Esta funcieon elimina los duplicados de una lista\n",
    "    NO HACER EN CASA\n",
    "    \"\"\"\n",
    "    tamano = len(lista)\n",
    "    lista_sin_duplicados = list()\n",
    "    for i in range(tamano):\n",
    "        elemento_en_lista = False\n",
    "        for j in range(i+1, tamano):\n",
    "            if lista[i] == lista[j]:\n",
    "                elemento_en_lista = True\n",
    "        if not elemento_en_lista:\n",
    "            lista_sin_duplicados.append(lista[i])\n",
    "    return lista_sin_duplicados"
   ]
  },
  {
   "cell_type": "code",
   "execution_count": 14,
   "metadata": {},
   "outputs": [
    {
     "data": {
      "text/plain": [
       "[3, 4, 2, 1]"
      ]
     },
     "execution_count": 14,
     "metadata": {},
     "output_type": "execute_result"
    }
   ],
   "source": [
    "eliminar_repetidos_complejo(lista)"
   ]
  },
  {
   "cell_type": "code",
   "execution_count": 17,
   "metadata": {},
   "outputs": [],
   "source": [
    "def elementos_iguales_en_dos_listas():\n",
    "    \"\"\"Lee dos listas de numericas digitadas por el usuario y determina los elementos iguales\"\"\"\n",
    "    lista1 = leer_lista()\n",
    "    lista2 = leer_lista()\n",
    "    return list(set(lista1).intersection(lista2))"
   ]
  },
  {
   "cell_type": "code",
   "execution_count": 18,
   "metadata": {},
   "outputs": [
    {
     "name": "stdout",
     "output_type": "stream",
     "text": [
      "Ingrese un número: 1\n",
      "Ingrese un número: 2\n",
      "Ingrese un número: 3\n",
      "Ingrese un número: 0\n",
      "Ingrese un número: 2\n",
      "Ingrese un número: 3\n",
      "Ingrese un número: 4\n",
      "Ingrese un número: 0\n"
     ]
    },
    {
     "ename": "TypeError",
     "evalue": "unsupported operand type(s) for &: 'set' and 'list'",
     "output_type": "error",
     "traceback": [
      "\u001b[0;31m---------------------------------------------------------------------------\u001b[0m",
      "\u001b[0;31mTypeError\u001b[0m                                 Traceback (most recent call last)",
      "\u001b[0;32m<ipython-input-18-72967a141740>\u001b[0m in \u001b[0;36m<module>\u001b[0;34m\u001b[0m\n\u001b[0;32m----> 1\u001b[0;31m \u001b[0melementos_iguales_en_dos_listas\u001b[0m\u001b[0;34m(\u001b[0m\u001b[0;34m)\u001b[0m\u001b[0;34m\u001b[0m\u001b[0;34m\u001b[0m\u001b[0m\n\u001b[0m",
      "\u001b[0;32m<ipython-input-17-0f99fe355091>\u001b[0m in \u001b[0;36melementos_iguales_en_dos_listas\u001b[0;34m()\u001b[0m\n\u001b[1;32m      3\u001b[0m     \u001b[0mlista1\u001b[0m \u001b[0;34m=\u001b[0m \u001b[0mleer_lista\u001b[0m\u001b[0;34m(\u001b[0m\u001b[0;34m)\u001b[0m\u001b[0;34m\u001b[0m\u001b[0;34m\u001b[0m\u001b[0m\n\u001b[1;32m      4\u001b[0m     \u001b[0mlista2\u001b[0m \u001b[0;34m=\u001b[0m \u001b[0mleer_lista\u001b[0m\u001b[0;34m(\u001b[0m\u001b[0;34m)\u001b[0m\u001b[0;34m\u001b[0m\u001b[0;34m\u001b[0m\u001b[0m\n\u001b[0;32m----> 5\u001b[0;31m     \u001b[0;32mreturn\u001b[0m \u001b[0mlist\u001b[0m\u001b[0;34m(\u001b[0m\u001b[0mset\u001b[0m\u001b[0;34m(\u001b[0m\u001b[0mlista1\u001b[0m\u001b[0;34m)\u001b[0m \u001b[0;34m&\u001b[0m \u001b[0mlista2\u001b[0m\u001b[0;34m)\u001b[0m\u001b[0;34m\u001b[0m\u001b[0;34m\u001b[0m\u001b[0m\n\u001b[0m",
      "\u001b[0;31mTypeError\u001b[0m: unsupported operand type(s) for &: 'set' and 'list'"
     ]
    }
   ],
   "source": [
    "elementos_iguales_en_dos_listas()"
   ]
  },
  {
   "cell_type": "code",
   "execution_count": 20,
   "metadata": {},
   "outputs": [],
   "source": [
    "def elementos_diferentes_en_dos_listas():\n",
    "    \"\"\"Lee dos listas de numericas digitadas por el usuario y determina los elementos iguales\"\"\"\n",
    "    lista1 = leer_lista()\n",
    "    lista2 = leer_lista()\n",
    "    return list(set(lista1).symmetric_difference(lista2))"
   ]
  },
  {
   "cell_type": "code",
   "execution_count": 21,
   "metadata": {},
   "outputs": [
    {
     "name": "stdout",
     "output_type": "stream",
     "text": [
      "Ingrese un número: 1\n",
      "Ingrese un número: 2\n",
      "Ingrese un número: 3\n",
      "Ingrese un número: 0\n",
      "Ingrese un número: 2\n",
      "Ingrese un número: 3\n",
      "Ingrese un número: 4\n",
      "Ingrese un número: 0\n"
     ]
    },
    {
     "data": {
      "text/plain": [
       "[1, 4]"
      ]
     },
     "execution_count": 21,
     "metadata": {},
     "output_type": "execute_result"
    }
   ],
   "source": [
    "elementos_diferentes_en_dos_listas()"
   ]
  },
  {
   "cell_type": "code",
   "execution_count": null,
   "metadata": {},
   "outputs": [],
   "source": [
    "def farenheit_to_celsius(grados):\n",
    "    pass"
   ]
  }
 ],
 "metadata": {
  "kernelspec": {
   "display_name": "Python 3",
   "language": "python",
   "name": "python3"
  },
  "language_info": {
   "codemirror_mode": {
    "name": "ipython",
    "version": 3
   },
   "file_extension": ".py",
   "mimetype": "text/x-python",
   "name": "python",
   "nbconvert_exporter": "python",
   "pygments_lexer": "ipython3",
   "version": "3.7.1"
  }
 },
 "nbformat": 4,
 "nbformat_minor": 2
}
